{
 "cells": [
  {
   "cell_type": "code",
   "execution_count": 1,
   "id": "bc43183a",
   "metadata": {},
   "outputs": [],
   "source": [
    "import pandas as pd\n",
    "import os"
   ]
  },
  {
   "cell_type": "markdown",
   "id": "470d921c",
   "metadata": {},
   "source": [
    "# Estrutura original dos dados"
   ]
  },
  {
   "cell_type": "code",
   "execution_count": null,
   "id": "8b8f2b93",
   "metadata": {},
   "outputs": [],
   "source": [
    "def extract_data():\n",
    "    try:\n",
    "        folder = \"../data/raw/\"\n",
    "        files = os.listdir(folder)\n",
    "    except FileNotFoundError:\n",
    "        folder = \"data/raw/\"\n",
    "        files = os.listdir(folder)\n",
    "    dfs = {file.split(\"_\")[1].split(\".\")[0]: pd.read_csv(folder + file) for file in files}\n",
    "    return dfs\n"
   ]
  },
  {
   "cell_type": "code",
   "execution_count": 6,
   "id": "fae6dd07",
   "metadata": {},
   "outputs": [
    {
     "name": "stdout",
     "output_type": "stream",
     "text": [
      "<class 'pandas.core.frame.DataFrame'>\n",
      "RangeIndex: 14966 entries, 0 to 14965\n",
      "Data columns (total 8 columns):\n",
      " #   Column             Non-Null Count  Dtype  \n",
      "---  ------             --------------  -----  \n",
      " 0   Categoria          14966 non-null  object \n",
      " 1   Série              14966 non-null  object \n",
      " 2   Data de Início     14966 non-null  object \n",
      " 3   Hora de Início     14966 non-null  object \n",
      " 4   Data Final         14966 non-null  object \n",
      " 5   Hora de Término    14966 non-null  object \n",
      " 6   Valor              14966 non-null  float64\n",
      " 7   Unidade de Medida  14966 non-null  object \n",
      "dtypes: float64(1), object(7)\n",
      "memory usage: 935.5+ KB\n"
     ]
    }
   ],
   "source": [
    "dfs = extract_data()\n",
    "keys = list(dfs.keys())\n",
    "dfs[keys[0]].info()"
   ]
  }
 ],
 "metadata": {
  "kernelspec": {
   "display_name": "venv",
   "language": "python",
   "name": "python3"
  },
  "language_info": {
   "codemirror_mode": {
    "name": "ipython",
    "version": 3
   },
   "file_extension": ".py",
   "mimetype": "text/x-python",
   "name": "python",
   "nbconvert_exporter": "python",
   "pygments_lexer": "ipython3",
   "version": "3.11.4"
  }
 },
 "nbformat": 4,
 "nbformat_minor": 5
}
