{
 "cells": [
  {
   "cell_type": "code",
   "execution_count": null,
   "id": "a8f45b10",
   "metadata": {},
   "outputs": [],
   "source": [
    "import pandas as pd\n",
    "import os\n",
    "from datetime import datetime\n",
    "try:\n",
    "    from utils.constants import categories\n",
    "except ModuleNotFoundError:\n",
    "    from notebooks.utils.constants import categories\n"
   ]
  },
  {
   "cell_type": "code",
   "execution_count": 17,
   "id": "f90d2eef",
   "metadata": {},
   "outputs": [
    {
     "name": "stdout",
     "output_type": "stream",
     "text": [
      "<class 'pandas.core.frame.DataFrame'>\n",
      "RangeIndex: 14966 entries, 0 to 14965\n",
      "Data columns (total 8 columns):\n",
      " #   Column             Non-Null Count  Dtype  \n",
      "---  ------             --------------  -----  \n",
      " 0   Categoria          14966 non-null  object \n",
      " 1   Série              14966 non-null  object \n",
      " 2   Data de Início     14966 non-null  object \n",
      " 3   Hora de Início     14966 non-null  object \n",
      " 4   Data Final         14966 non-null  object \n",
      " 5   Hora de Término    14966 non-null  object \n",
      " 6   Valor              14966 non-null  float64\n",
      " 7   Unidade de Medida  14966 non-null  object \n",
      "dtypes: float64(1), object(7)\n",
      "memory usage: 935.5+ KB\n"
     ]
    }
   ],
   "source": [
    "try:\n",
    "    %run 01_extract.ipynb\n",
    "except Exception:\n",
    "    %run notebooks/01_extract.ipynb"
   ]
  },
  {
   "cell_type": "code",
   "execution_count": 12,
   "id": "27a87a70",
   "metadata": {},
   "outputs": [],
   "source": [
    "dfs = extract_data() # type: ignore"
   ]
  },
  {
   "cell_type": "markdown",
   "id": "c78a72b9",
   "metadata": {},
   "source": [
    "# Funções Úteis"
   ]
  },
  {
   "cell_type": "markdown",
   "id": "d743a99c",
   "metadata": {},
   "source": [
    "## Formatador"
   ]
  },
  {
   "cell_type": "code",
   "execution_count": 13,
   "id": "55c19832",
   "metadata": {},
   "outputs": [],
   "source": [
    "def dataset_formatter(df: pd.DataFrame):\n",
    "  df = df.drop([\n",
    "                'Hora de Início', 'Data Final', 'Hora de Término'], axis=1)\n",
    "\n",
    "  df2 = pd.DataFrame(columns=categories)\n",
    "  data = {category: 0 for category in categories}\n",
    "  row = 0\n",
    "\n",
    "  for date in df['Data de Início'].unique():\n",
    "    df_by_date = df.loc[df['Data de Início'] == date]\n",
    "\n",
    "    date = translate_date_to_en_US(date)\n",
    "    for index, value in df_by_date.iterrows():\n",
    "      category = value['Categoria'] + \" \" + value['Série']\n",
    "      data[category] = value['Valor']\n",
    "\n",
    "    df2.loc[row, 'Data de leitura'] = datetime.strptime(\n",
    "     date, '%d %b %Y'\n",
    "    )\n",
    "    for key, value in data.items():\n",
    "      df2.loc[row, key] = value\n",
    "\n",
    "    # Velocidade média\n",
    "    df2.loc[row, 'Velocidade Média Avanço'] = calculate_average_speed(\n",
    "        df=df2,\n",
    "        row=row,\n",
    "        distance_col='Distância Percorrida em Avanço e em Marcha à Ré Avanço',\n",
    "        time_col='Tempo em Avanço e em Marcha à Ré Avanço'\n",
    "    )\n",
    "    df2.loc[row, 'Velocidade Média Marcha à ré'] = calculate_average_speed(\n",
    "        df=df2,\n",
    "        row=row,\n",
    "        distance_col='Distância Percorrida em Avanço e em Marcha à Ré Marcha à Ré',\n",
    "        time_col='Tempo em Avanço e em Marcha à Ré Marcha à Ré'\n",
    "    )\n",
    "\n",
    "    # Horas de operação (aproximado)\n",
    "    cols = ['Uso do Motor Marcha Lenta', 'Uso do Motor Carga Alta',\n",
    "            'Uso do Motor Carga Média', 'Uso do Motor Carga Baixa']\n",
    "\n",
    "    df2.loc[row, 'Horas de Operação'] = df2.loc[row, cols].sum()\n",
    "\n",
    "\n",
    "    data.update(dict.fromkeys(data, 0)) # Evita a falta de dados\n",
    "    row += 1\n",
    "\n",
    "  # Convertendo objects para números\n",
    "  df2[df2.columns.difference(['Data de leitura'])] = df2[\n",
    "      df2.columns.difference(['Data de leitura'])].apply(pd.to_numeric)\n",
    "\n",
    "  df2.sort_values(by=['Data de leitura'], inplace=True, ignore_index=True)\n",
    "\n",
    "  return df2\n",
    "\n",
    "\n",
    "def calculate_average_speed(**kwargs):\n",
    "  df = kwargs.get('df')\n",
    "  row = kwargs.get('row')\n",
    "  distance_col = kwargs.get('distance_col')\n",
    "  time_col = kwargs.get('time_col')\n",
    "\n",
    "  try:\n",
    "    distance = df.loc[row, distance_col]\n",
    "    time = df.loc[row, time_col]\n",
    "  except:\n",
    "    distance = 0\n",
    "    time = 0\n",
    "\n",
    "  return distance/time if time != 0 else 0\n",
    "\n",
    "def translate_date_to_en_US(date):\n",
    "  date_slice = date.split(' ')\n",
    "\n",
    "  day = date_slice[0]\n",
    "  month = date_slice[1]\n",
    "  year = date_slice[2]\n",
    "\n",
    "  match month:\n",
    "    case 'fev':\n",
    "      return f'{day} Feb {year}'\n",
    "    case 'abr':\n",
    "      return f'{day} Apr {year}'\n",
    "    case 'mai':\n",
    "      return f'{day} May {year}'\n",
    "    case 'ago':\n",
    "      return f'{day} Aug {year}'\n",
    "    case 'set':\n",
    "      return f'{day} Sep {year}'\n",
    "    case 'out':\n",
    "      return f'{day} Oct {year}'\n",
    "    case 'dez':\n",
    "      return f'{day} Dec {year}'\n",
    "    case _:\n",
    "      return date"
   ]
  },
  {
   "cell_type": "markdown",
   "id": "9bf68b6a",
   "metadata": {},
   "source": [
    "## Filtragem por horímetro"
   ]
  },
  {
   "cell_type": "code",
   "execution_count": 14,
   "id": "c9d825fa",
   "metadata": {},
   "outputs": [],
   "source": [
    "def filter_dataframe_by_engine_hour(dataframe, hour_meter):\n",
    "  filtered_df = dataframe.copy()\n",
    "  filtered_df['Horas do Motor'] = filtered_df['Horas de Operação'].cumsum() # horas do motor aproximado\n",
    "  filtered_df = filtered_df[filtered_df['Horas do Motor'] <= hour_meter]\n",
    "  return filtered_df"
   ]
  },
  {
   "cell_type": "markdown",
   "id": "078a0906",
   "metadata": {},
   "source": [
    "# Transformando os datasets"
   ]
  },
  {
   "cell_type": "markdown",
   "id": "0a5d2457",
   "metadata": {},
   "source": [
    "## Criando Pastas"
   ]
  },
  {
   "cell_type": "code",
   "execution_count": 15,
   "id": "43702441",
   "metadata": {},
   "outputs": [],
   "source": [
    "os.makedirs(\"../data/processed/filtered/\", exist_ok=True)\n",
    "os.makedirs(\"../data/processed/full/\", exist_ok=True)"
   ]
  },
  {
   "cell_type": "markdown",
   "id": "aa6f326e",
   "metadata": {},
   "source": [
    "## Formatando os datasets"
   ]
  },
  {
   "cell_type": "code",
   "execution_count": 16,
   "id": "24893988",
   "metadata": {},
   "outputs": [
    {
     "name": "stdout",
     "output_type": "stream",
     "text": [
      "<class 'pandas.core.frame.DataFrame'>\n",
      "RangeIndex: 572 entries, 0 to 571\n",
      "Data columns (total 32 columns):\n",
      " #   Column                                                            Non-Null Count  Dtype         \n",
      "---  ------                                                            --------------  -----         \n",
      " 0   Temperatura Máxima do Óleo Hidráulico Temperatura                 572 non-null    float64       \n",
      " 1   Temp. Máx. do Óleo da Transm. Temperatura do Óleo da Transmissão  572 non-null    float64       \n",
      " 2   Ajuste da Rotação da Transmissão 0,5 a 0,9                        572 non-null    float64       \n",
      " 3   Ajuste da Rotação da Transmissão 1,0 a 1,4                        572 non-null    float64       \n",
      " 4   Ajuste da Rotação da Transmissão 2,5 a 2,9                        572 non-null    float64       \n",
      " 5   Ajuste da Rotação da Transmissão 3,0 a 3,5                        572 non-null    float64       \n",
      " 6   Ajuste da Rotação da Transmissão 1,5 a 1,9                        572 non-null    float64       \n",
      " 7   Ajuste da Rotação da Transmissão 2,0 a 2,4                        572 non-null    float64       \n",
      " 8   Combustível Consumido Consumo de combustível                      572 non-null    float64       \n",
      " 9   Taxa Média de Combustível Taxa Média de Combustível               572 non-null    float64       \n",
      " 10  Uso do Combustível do Motor Carga Baixa                           572 non-null    float64       \n",
      " 11  Uso do Combustível do Motor Marcha Lenta                          572 non-null    float64       \n",
      " 12  Uso do Combustível do Motor Carga Alta                            572 non-null    float64       \n",
      " 13  Uso do Combustível do Motor Carga Média                           572 non-null    float64       \n",
      " 14  Uso do Combustível do Motor Chave-Ligada                          572 non-null    float64       \n",
      " 15  Distância Percorrida em Avanço e em Marcha à Ré Avanço            572 non-null    float64       \n",
      " 16  Distância Percorrida em Avanço e em Marcha à Ré Marcha à Ré       572 non-null    float64       \n",
      " 17  Temp. Máx. do Líq. de Arrefecimento Temperatura                   572 non-null    float64       \n",
      " 18  Tempo em Avanço e em Marcha à Ré Avanço                           572 non-null    float64       \n",
      " 19  Tempo em Avanço e em Marcha à Ré Marcha à Ré                      572 non-null    float64       \n",
      " 20  Tempo em Avanço e em Marcha à Ré Neutro                           572 non-null    float64       \n",
      " 21  Tempo em Avanço e em Marcha à Ré Estacionar                       572 non-null    float64       \n",
      " 22  Uso do Motor Carga Baixa                                          572 non-null    float64       \n",
      " 23  Uso do Motor Marcha Lenta                                         572 non-null    float64       \n",
      " 24  Uso do Motor Carga Alta                                           572 non-null    float64       \n",
      " 25  Uso do Motor Carga Média                                          572 non-null    float64       \n",
      " 26  Uso do Motor Chave-Ligada                                         572 non-null    float64       \n",
      " 27  Nível do Tanque de Combustível Nível de Combustível               572 non-null    float64       \n",
      " 28  Data de leitura                                                   572 non-null    datetime64[us]\n",
      " 29  Velocidade Média Avanço                                           572 non-null    float64       \n",
      " 30  Velocidade Média Marcha à ré                                      572 non-null    float64       \n",
      " 31  Horas de Operação                                                 572 non-null    float64       \n",
      "dtypes: datetime64[us](1), float64(31)\n",
      "memory usage: 143.1 KB\n",
      "None\n"
     ]
    },
    {
     "ename": "KeyboardInterrupt",
     "evalue": "",
     "output_type": "error",
     "traceback": [
      "\u001b[31m---------------------------------------------------------------------------\u001b[39m",
      "\u001b[31mKeyboardInterrupt\u001b[39m                         Traceback (most recent call last)",
      "\u001b[36mCell\u001b[39m\u001b[36m \u001b[39m\u001b[32mIn[16]\u001b[39m\u001b[32m, line 2\u001b[39m\n\u001b[32m      1\u001b[39m \u001b[38;5;28;01mfor\u001b[39;00m index, [name, df] \u001b[38;5;129;01min\u001b[39;00m \u001b[38;5;28menumerate\u001b[39m(dfs.items()):\n\u001b[32m----> \u001b[39m\u001b[32m2\u001b[39m     f_df = \u001b[43mdataset_formatter\u001b[49m\u001b[43m(\u001b[49m\u001b[43mdf\u001b[49m\u001b[43m)\u001b[49m\n\u001b[32m      3\u001b[39m     \u001b[38;5;28;01mif\u001b[39;00m index == \u001b[32m0\u001b[39m:\n\u001b[32m      4\u001b[39m         \u001b[38;5;28mprint\u001b[39m(f_df.info())\n",
      "\u001b[36mCell\u001b[39m\u001b[36m \u001b[39m\u001b[32mIn[13]\u001b[39m\u001b[32m, line 17\u001b[39m, in \u001b[36mdataset_formatter\u001b[39m\u001b[34m(df)\u001b[39m\n\u001b[32m     14\u001b[39m   category = value[\u001b[33m'\u001b[39m\u001b[33mCategoria\u001b[39m\u001b[33m'\u001b[39m] + \u001b[33m\"\u001b[39m\u001b[33m \u001b[39m\u001b[33m\"\u001b[39m + value[\u001b[33m'\u001b[39m\u001b[33mSérie\u001b[39m\u001b[33m'\u001b[39m]\n\u001b[32m     15\u001b[39m   data[category] = value[\u001b[33m'\u001b[39m\u001b[33mValor\u001b[39m\u001b[33m'\u001b[39m]\n\u001b[32m---> \u001b[39m\u001b[32m17\u001b[39m \u001b[43mdf2\u001b[49m\u001b[43m.\u001b[49m\u001b[43mloc\u001b[49m\u001b[43m[\u001b[49m\u001b[43mrow\u001b[49m\u001b[43m,\u001b[49m\u001b[43m \u001b[49m\u001b[33;43m'\u001b[39;49m\u001b[33;43mData de leitura\u001b[39;49m\u001b[33;43m'\u001b[39;49m\u001b[43m]\u001b[49m = datetime.strptime(\n\u001b[32m     18\u001b[39m  date, \u001b[33m'\u001b[39m\u001b[38;5;132;01m%d\u001b[39;00m\u001b[33m \u001b[39m\u001b[33m%\u001b[39m\u001b[33mb \u001b[39m\u001b[33m%\u001b[39m\u001b[33mY\u001b[39m\u001b[33m'\u001b[39m\n\u001b[32m     19\u001b[39m )\n\u001b[32m     20\u001b[39m \u001b[38;5;28;01mfor\u001b[39;00m key, value \u001b[38;5;129;01min\u001b[39;00m data.items():\n\u001b[32m     21\u001b[39m   df2.loc[row, key] = value\n",
      "\u001b[36mFile \u001b[39m\u001b[32mc:\\Users\\Robert\\Desktop\\Projetos\\data-pipeline-crawler-dozers\\venv\\Lib\\site-packages\\pandas\\core\\indexing.py:911\u001b[39m, in \u001b[36m_LocationIndexer.__setitem__\u001b[39m\u001b[34m(self, key, value)\u001b[39m\n\u001b[32m    908\u001b[39m \u001b[38;5;28mself\u001b[39m._has_valid_setitem_indexer(key)\n\u001b[32m    910\u001b[39m iloc = \u001b[38;5;28mself\u001b[39m \u001b[38;5;28;01mif\u001b[39;00m \u001b[38;5;28mself\u001b[39m.name == \u001b[33m\"\u001b[39m\u001b[33miloc\u001b[39m\u001b[33m\"\u001b[39m \u001b[38;5;28;01melse\u001b[39;00m \u001b[38;5;28mself\u001b[39m.obj.iloc\n\u001b[32m--> \u001b[39m\u001b[32m911\u001b[39m \u001b[43miloc\u001b[49m\u001b[43m.\u001b[49m\u001b[43m_setitem_with_indexer\u001b[49m\u001b[43m(\u001b[49m\u001b[43mindexer\u001b[49m\u001b[43m,\u001b[49m\u001b[43m \u001b[49m\u001b[43mvalue\u001b[49m\u001b[43m,\u001b[49m\u001b[43m \u001b[49m\u001b[38;5;28;43mself\u001b[39;49m\u001b[43m.\u001b[49m\u001b[43mname\u001b[49m\u001b[43m)\u001b[49m\n",
      "\u001b[36mFile \u001b[39m\u001b[32mc:\\Users\\Robert\\Desktop\\Projetos\\data-pipeline-crawler-dozers\\venv\\Lib\\site-packages\\pandas\\core\\indexing.py:1915\u001b[39m, in \u001b[36m_iLocIndexer._setitem_with_indexer\u001b[39m\u001b[34m(self, indexer, value, name)\u001b[39m\n\u001b[32m   1913\u001b[39m taker[-\u001b[32m1\u001b[39m] = -\u001b[32m1\u001b[39m\n\u001b[32m   1914\u001b[39m reindexers = {i: (labels, taker)}\n\u001b[32m-> \u001b[39m\u001b[32m1915\u001b[39m new_obj = \u001b[38;5;28;43mself\u001b[39;49m\u001b[43m.\u001b[49m\u001b[43mobj\u001b[49m\u001b[43m.\u001b[49m\u001b[43m_reindex_with_indexers\u001b[49m\u001b[43m(\u001b[49m\n\u001b[32m   1916\u001b[39m \u001b[43m    \u001b[49m\u001b[43mreindexers\u001b[49m\u001b[43m,\u001b[49m\u001b[43m \u001b[49m\u001b[43mallow_dups\u001b[49m\u001b[43m=\u001b[49m\u001b[38;5;28;43;01mTrue\u001b[39;49;00m\n\u001b[32m   1917\u001b[39m \u001b[43m\u001b[49m\u001b[43m)\u001b[49m\n\u001b[32m   1918\u001b[39m \u001b[38;5;28mself\u001b[39m.obj._mgr = new_obj._mgr\n\u001b[32m   1919\u001b[39m \u001b[38;5;28mself\u001b[39m.obj._maybe_update_cacher(clear=\u001b[38;5;28;01mTrue\u001b[39;00m)\n",
      "\u001b[36mFile \u001b[39m\u001b[32mc:\\Users\\Robert\\Desktop\\Projetos\\data-pipeline-crawler-dozers\\venv\\Lib\\site-packages\\pandas\\core\\generic.py:5705\u001b[39m, in \u001b[36mNDFrame._reindex_with_indexers\u001b[39m\u001b[34m(self, reindexers, fill_value, copy, allow_dups)\u001b[39m\n\u001b[32m   5702\u001b[39m     indexer = ensure_platform_int(indexer)\n\u001b[32m   5704\u001b[39m \u001b[38;5;66;03m# TODO: speed up on homogeneous DataFrame objects (see _reindex_multi)\u001b[39;00m\n\u001b[32m-> \u001b[39m\u001b[32m5705\u001b[39m new_data = \u001b[43mnew_data\u001b[49m\u001b[43m.\u001b[49m\u001b[43mreindex_indexer\u001b[49m\u001b[43m(\u001b[49m\n\u001b[32m   5706\u001b[39m \u001b[43m    \u001b[49m\u001b[43mindex\u001b[49m\u001b[43m,\u001b[49m\n\u001b[32m   5707\u001b[39m \u001b[43m    \u001b[49m\u001b[43mindexer\u001b[49m\u001b[43m,\u001b[49m\n\u001b[32m   5708\u001b[39m \u001b[43m    \u001b[49m\u001b[43maxis\u001b[49m\u001b[43m=\u001b[49m\u001b[43mbaxis\u001b[49m\u001b[43m,\u001b[49m\n\u001b[32m   5709\u001b[39m \u001b[43m    \u001b[49m\u001b[43mfill_value\u001b[49m\u001b[43m=\u001b[49m\u001b[43mfill_value\u001b[49m\u001b[43m,\u001b[49m\n\u001b[32m   5710\u001b[39m \u001b[43m    \u001b[49m\u001b[43mallow_dups\u001b[49m\u001b[43m=\u001b[49m\u001b[43mallow_dups\u001b[49m\u001b[43m,\u001b[49m\n\u001b[32m   5711\u001b[39m \u001b[43m    \u001b[49m\u001b[43mcopy\u001b[49m\u001b[43m=\u001b[49m\u001b[43mcopy\u001b[49m\u001b[43m,\u001b[49m\n\u001b[32m   5712\u001b[39m \u001b[43m\u001b[49m\u001b[43m)\u001b[49m\n\u001b[32m   5713\u001b[39m \u001b[38;5;66;03m# If we've made a copy once, no need to make another one\u001b[39;00m\n\u001b[32m   5714\u001b[39m copy = \u001b[38;5;28;01mFalse\u001b[39;00m\n",
      "\u001b[36mFile \u001b[39m\u001b[32mc:\\Users\\Robert\\Desktop\\Projetos\\data-pipeline-crawler-dozers\\venv\\Lib\\site-packages\\pandas\\core\\internals\\managers.py:687\u001b[39m, in \u001b[36mBaseBlockManager.reindex_indexer\u001b[39m\u001b[34m(self, new_axis, indexer, axis, fill_value, allow_dups, copy, only_slice, use_na_proxy)\u001b[39m\n\u001b[32m    680\u001b[39m     new_blocks = \u001b[38;5;28mself\u001b[39m._slice_take_blocks_ax0(\n\u001b[32m    681\u001b[39m         indexer,\n\u001b[32m    682\u001b[39m         fill_value=fill_value,\n\u001b[32m    683\u001b[39m         only_slice=only_slice,\n\u001b[32m    684\u001b[39m         use_na_proxy=use_na_proxy,\n\u001b[32m    685\u001b[39m     )\n\u001b[32m    686\u001b[39m \u001b[38;5;28;01melse\u001b[39;00m:\n\u001b[32m--> \u001b[39m\u001b[32m687\u001b[39m     new_blocks = \u001b[43m[\u001b[49m\n\u001b[32m    688\u001b[39m \u001b[43m        \u001b[49m\u001b[43mblk\u001b[49m\u001b[43m.\u001b[49m\u001b[43mtake_nd\u001b[49m\u001b[43m(\u001b[49m\n\u001b[32m    689\u001b[39m \u001b[43m            \u001b[49m\u001b[43mindexer\u001b[49m\u001b[43m,\u001b[49m\n\u001b[32m    690\u001b[39m \u001b[43m            \u001b[49m\u001b[43maxis\u001b[49m\u001b[43m=\u001b[49m\u001b[32;43m1\u001b[39;49m\u001b[43m,\u001b[49m\n\u001b[32m    691\u001b[39m \u001b[43m            \u001b[49m\u001b[43mfill_value\u001b[49m\u001b[43m=\u001b[49m\u001b[43m(\u001b[49m\n\u001b[32m    692\u001b[39m \u001b[43m                \u001b[49m\u001b[43mfill_value\u001b[49m\u001b[43m \u001b[49m\u001b[38;5;28;43;01mif\u001b[39;49;00m\u001b[43m \u001b[49m\u001b[43mfill_value\u001b[49m\u001b[43m \u001b[49m\u001b[38;5;129;43;01mis\u001b[39;49;00m\u001b[43m \u001b[49m\u001b[38;5;129;43;01mnot\u001b[39;49;00m\u001b[43m \u001b[49m\u001b[38;5;28;43;01mNone\u001b[39;49;00m\u001b[43m \u001b[49m\u001b[38;5;28;43;01melse\u001b[39;49;00m\u001b[43m \u001b[49m\u001b[43mblk\u001b[49m\u001b[43m.\u001b[49m\u001b[43mfill_value\u001b[49m\n\u001b[32m    693\u001b[39m \u001b[43m            \u001b[49m\u001b[43m)\u001b[49m\u001b[43m,\u001b[49m\n\u001b[32m    694\u001b[39m \u001b[43m        \u001b[49m\u001b[43m)\u001b[49m\n\u001b[32m    695\u001b[39m \u001b[43m        \u001b[49m\u001b[38;5;28;43;01mfor\u001b[39;49;00m\u001b[43m \u001b[49m\u001b[43mblk\u001b[49m\u001b[43m \u001b[49m\u001b[38;5;129;43;01min\u001b[39;49;00m\u001b[43m \u001b[49m\u001b[38;5;28;43mself\u001b[39;49m\u001b[43m.\u001b[49m\u001b[43mblocks\u001b[49m\n\u001b[32m    696\u001b[39m \u001b[43m    \u001b[49m\u001b[43m]\u001b[49m\n\u001b[32m    698\u001b[39m new_axes = \u001b[38;5;28mlist\u001b[39m(\u001b[38;5;28mself\u001b[39m.axes)\n\u001b[32m    699\u001b[39m new_axes[axis] = new_axis\n",
      "\u001b[36mFile \u001b[39m\u001b[32mc:\\Users\\Robert\\Desktop\\Projetos\\data-pipeline-crawler-dozers\\venv\\Lib\\site-packages\\pandas\\core\\internals\\managers.py:688\u001b[39m, in \u001b[36m<listcomp>\u001b[39m\u001b[34m(.0)\u001b[39m\n\u001b[32m    680\u001b[39m     new_blocks = \u001b[38;5;28mself\u001b[39m._slice_take_blocks_ax0(\n\u001b[32m    681\u001b[39m         indexer,\n\u001b[32m    682\u001b[39m         fill_value=fill_value,\n\u001b[32m    683\u001b[39m         only_slice=only_slice,\n\u001b[32m    684\u001b[39m         use_na_proxy=use_na_proxy,\n\u001b[32m    685\u001b[39m     )\n\u001b[32m    686\u001b[39m \u001b[38;5;28;01melse\u001b[39;00m:\n\u001b[32m    687\u001b[39m     new_blocks = [\n\u001b[32m--> \u001b[39m\u001b[32m688\u001b[39m         \u001b[43mblk\u001b[49m\u001b[43m.\u001b[49m\u001b[43mtake_nd\u001b[49m\u001b[43m(\u001b[49m\n\u001b[32m    689\u001b[39m \u001b[43m            \u001b[49m\u001b[43mindexer\u001b[49m\u001b[43m,\u001b[49m\n\u001b[32m    690\u001b[39m \u001b[43m            \u001b[49m\u001b[43maxis\u001b[49m\u001b[43m=\u001b[49m\u001b[32;43m1\u001b[39;49m\u001b[43m,\u001b[49m\n\u001b[32m    691\u001b[39m \u001b[43m            \u001b[49m\u001b[43mfill_value\u001b[49m\u001b[43m=\u001b[49m\u001b[43m(\u001b[49m\n\u001b[32m    692\u001b[39m \u001b[43m                \u001b[49m\u001b[43mfill_value\u001b[49m\u001b[43m \u001b[49m\u001b[38;5;28;43;01mif\u001b[39;49;00m\u001b[43m \u001b[49m\u001b[43mfill_value\u001b[49m\u001b[43m \u001b[49m\u001b[38;5;129;43;01mis\u001b[39;49;00m\u001b[43m \u001b[49m\u001b[38;5;129;43;01mnot\u001b[39;49;00m\u001b[43m \u001b[49m\u001b[38;5;28;43;01mNone\u001b[39;49;00m\u001b[43m \u001b[49m\u001b[38;5;28;43;01melse\u001b[39;49;00m\u001b[43m \u001b[49m\u001b[43mblk\u001b[49m\u001b[43m.\u001b[49m\u001b[43mfill_value\u001b[49m\n\u001b[32m    693\u001b[39m \u001b[43m            \u001b[49m\u001b[43m)\u001b[49m\u001b[43m,\u001b[49m\n\u001b[32m    694\u001b[39m \u001b[43m        \u001b[49m\u001b[43m)\u001b[49m\n\u001b[32m    695\u001b[39m         \u001b[38;5;28;01mfor\u001b[39;00m blk \u001b[38;5;129;01min\u001b[39;00m \u001b[38;5;28mself\u001b[39m.blocks\n\u001b[32m    696\u001b[39m     ]\n\u001b[32m    698\u001b[39m new_axes = \u001b[38;5;28mlist\u001b[39m(\u001b[38;5;28mself\u001b[39m.axes)\n\u001b[32m    699\u001b[39m new_axes[axis] = new_axis\n",
      "\u001b[36mFile \u001b[39m\u001b[32mc:\\Users\\Robert\\Desktop\\Projetos\\data-pipeline-crawler-dozers\\venv\\Lib\\site-packages\\pandas\\core\\internals\\blocks.py:1373\u001b[39m, in \u001b[36mBlock.take_nd\u001b[39m\u001b[34m(self, indexer, axis, new_mgr_locs, fill_value)\u001b[39m\n\u001b[32m   1370\u001b[39m     allow_fill = \u001b[38;5;28;01mTrue\u001b[39;00m\n\u001b[32m   1372\u001b[39m \u001b[38;5;66;03m# Note: algos.take_nd has upcast logic similar to coerce_to_target_dtype\u001b[39;00m\n\u001b[32m-> \u001b[39m\u001b[32m1373\u001b[39m new_values = \u001b[43malgos\u001b[49m\u001b[43m.\u001b[49m\u001b[43mtake_nd\u001b[49m\u001b[43m(\u001b[49m\n\u001b[32m   1374\u001b[39m \u001b[43m    \u001b[49m\u001b[43mvalues\u001b[49m\u001b[43m,\u001b[49m\u001b[43m \u001b[49m\u001b[43mindexer\u001b[49m\u001b[43m,\u001b[49m\u001b[43m \u001b[49m\u001b[43maxis\u001b[49m\u001b[43m=\u001b[49m\u001b[43maxis\u001b[49m\u001b[43m,\u001b[49m\u001b[43m \u001b[49m\u001b[43mallow_fill\u001b[49m\u001b[43m=\u001b[49m\u001b[43mallow_fill\u001b[49m\u001b[43m,\u001b[49m\u001b[43m \u001b[49m\u001b[43mfill_value\u001b[49m\u001b[43m=\u001b[49m\u001b[43mfill_value\u001b[49m\n\u001b[32m   1375\u001b[39m \u001b[43m\u001b[49m\u001b[43m)\u001b[49m\n\u001b[32m   1377\u001b[39m \u001b[38;5;66;03m# Called from three places in managers, all of which satisfy\u001b[39;00m\n\u001b[32m   1378\u001b[39m \u001b[38;5;66;03m#  these assertions\u001b[39;00m\n\u001b[32m   1379\u001b[39m \u001b[38;5;28;01mif\u001b[39;00m \u001b[38;5;28misinstance\u001b[39m(\u001b[38;5;28mself\u001b[39m, ExtensionBlock):\n\u001b[32m   1380\u001b[39m     \u001b[38;5;66;03m# NB: in this case, the 'axis' kwarg will be ignored in the\u001b[39;00m\n\u001b[32m   1381\u001b[39m     \u001b[38;5;66;03m#  algos.take_nd call above.\u001b[39;00m\n",
      "\u001b[36mFile \u001b[39m\u001b[32mc:\\Users\\Robert\\Desktop\\Projetos\\data-pipeline-crawler-dozers\\venv\\Lib\\site-packages\\pandas\\core\\array_algos\\take.py:117\u001b[39m, in \u001b[36mtake_nd\u001b[39m\u001b[34m(arr, indexer, axis, fill_value, allow_fill)\u001b[39m\n\u001b[32m    114\u001b[39m     \u001b[38;5;28;01mreturn\u001b[39;00m arr.take(indexer, fill_value=fill_value, allow_fill=allow_fill)\n\u001b[32m    116\u001b[39m arr = np.asarray(arr)\n\u001b[32m--> \u001b[39m\u001b[32m117\u001b[39m \u001b[38;5;28;01mreturn\u001b[39;00m \u001b[43m_take_nd_ndarray\u001b[49m\u001b[43m(\u001b[49m\u001b[43marr\u001b[49m\u001b[43m,\u001b[49m\u001b[43m \u001b[49m\u001b[43mindexer\u001b[49m\u001b[43m,\u001b[49m\u001b[43m \u001b[49m\u001b[43maxis\u001b[49m\u001b[43m,\u001b[49m\u001b[43m \u001b[49m\u001b[43mfill_value\u001b[49m\u001b[43m,\u001b[49m\u001b[43m \u001b[49m\u001b[43mallow_fill\u001b[49m\u001b[43m)\u001b[49m\n",
      "\u001b[36mFile \u001b[39m\u001b[32mc:\\Users\\Robert\\Desktop\\Projetos\\data-pipeline-crawler-dozers\\venv\\Lib\\site-packages\\pandas\\core\\array_algos\\take.py:157\u001b[39m, in \u001b[36m_take_nd_ndarray\u001b[39m\u001b[34m(arr, indexer, axis, fill_value, allow_fill)\u001b[39m\n\u001b[32m    155\u001b[39m     out = np.empty(out_shape, dtype=dtype, order=\u001b[33m\"\u001b[39m\u001b[33mF\u001b[39m\u001b[33m\"\u001b[39m)\n\u001b[32m    156\u001b[39m \u001b[38;5;28;01melse\u001b[39;00m:\n\u001b[32m--> \u001b[39m\u001b[32m157\u001b[39m     out = np.empty(out_shape, dtype=dtype)\n\u001b[32m    159\u001b[39m func = _get_take_nd_function(\n\u001b[32m    160\u001b[39m     arr.ndim, arr.dtype, out.dtype, axis=axis, mask_info=mask_info\n\u001b[32m    161\u001b[39m )\n\u001b[32m    162\u001b[39m func(arr, indexer, out, fill_value)\n",
      "\u001b[31mKeyboardInterrupt\u001b[39m: "
     ]
    }
   ],
   "source": [
    "for index, [name, df] in enumerate(dfs.items()):\n",
    "    f_df = dataset_formatter(df)\n",
    "    if index == 0:\n",
    "        print(f_df.info())\n",
    "        \n",
    "    f_df.to_csv(f\"../data/processed/full/df_{name}.csv\", index=False)"
   ]
  },
  {
   "cell_type": "markdown",
   "id": "e88e8756",
   "metadata": {},
   "source": [
    "## Filtrando por horímetro"
   ]
  },
  {
   "cell_type": "code",
   "execution_count": null,
   "id": "033729e7",
   "metadata": {},
   "outputs": [
    {
     "name": "stdout",
     "output_type": "stream",
     "text": [
      "<class 'pandas.core.frame.DataFrame'>\n",
      "Index: 91 entries, 0 to 90\n",
      "Data columns (total 33 columns):\n",
      " #   Column                                                            Non-Null Count  Dtype  \n",
      "---  ------                                                            --------------  -----  \n",
      " 0   Temperatura Máxima do Óleo Hidráulico Temperatura                 91 non-null     float64\n",
      " 1   Temp. Máx. do Óleo da Transm. Temperatura do Óleo da Transmissão  91 non-null     float64\n",
      " 2   Ajuste da Rotação da Transmissão 0,5 a 0,9                        91 non-null     float64\n",
      " 3   Ajuste da Rotação da Transmissão 1,0 a 1,4                        91 non-null     float64\n",
      " 4   Ajuste da Rotação da Transmissão 2,5 a 2,9                        91 non-null     float64\n",
      " 5   Ajuste da Rotação da Transmissão 3,0 a 3,5                        91 non-null     float64\n",
      " 6   Ajuste da Rotação da Transmissão 1,5 a 1,9                        91 non-null     float64\n",
      " 7   Ajuste da Rotação da Transmissão 2,0 a 2,4                        91 non-null     float64\n",
      " 8   Combustível Consumido Consumo de combustível                      91 non-null     float64\n",
      " 9   Taxa Média de Combustível Taxa Média de Combustível               91 non-null     float64\n",
      " 10  Uso do Combustível do Motor Carga Baixa                           91 non-null     float64\n",
      " 11  Uso do Combustível do Motor Marcha Lenta                          91 non-null     float64\n",
      " 12  Uso do Combustível do Motor Carga Alta                            91 non-null     float64\n",
      " 13  Uso do Combustível do Motor Carga Média                           91 non-null     float64\n",
      " 14  Uso do Combustível do Motor Chave-Ligada                          91 non-null     float64\n",
      " 15  Distância Percorrida em Avanço e em Marcha à Ré Avanço            91 non-null     float64\n",
      " 16  Distância Percorrida em Avanço e em Marcha à Ré Marcha à Ré       91 non-null     float64\n",
      " 17  Temp. Máx. do Líq. de Arrefecimento Temperatura                   91 non-null     float64\n",
      " 18  Tempo em Avanço e em Marcha à Ré Avanço                           91 non-null     float64\n",
      " 19  Tempo em Avanço e em Marcha à Ré Marcha à Ré                      91 non-null     float64\n",
      " 20  Tempo em Avanço e em Marcha à Ré Neutro                           91 non-null     float64\n",
      " 21  Tempo em Avanço e em Marcha à Ré Estacionar                       91 non-null     float64\n",
      " 22  Uso do Motor Carga Baixa                                          91 non-null     float64\n",
      " 23  Uso do Motor Marcha Lenta                                         91 non-null     float64\n",
      " 24  Uso do Motor Carga Alta                                           91 non-null     float64\n",
      " 25  Uso do Motor Carga Média                                          91 non-null     float64\n",
      " 26  Uso do Motor Chave-Ligada                                         91 non-null     float64\n",
      " 27  Nível do Tanque de Combustível Nível de Combustível               91 non-null     float64\n",
      " 28  Data de leitura                                                   91 non-null     object \n",
      " 29  Velocidade Média Avanço                                           91 non-null     float64\n",
      " 30  Velocidade Média Marcha à ré                                      91 non-null     float64\n",
      " 31  Horas de Operação                                                 91 non-null     float64\n",
      " 32  Horas do Motor                                                    91 non-null     float64\n",
      "dtypes: float64(32), object(1)\n",
      "memory usage: 24.2+ KB\n",
      "None\n"
     ]
    }
   ],
   "source": [
    "hour_meter = 1100\n",
    "\n",
    "def full_dataframe(df: str):\n",
    "    return pd.read_csv(f\"../data/processed/full/{df}\")\n",
    "\n",
    "for index, dataframe in enumerate(os.listdir(\"../data/processed/full/\")):\n",
    "    df = full_dataframe(dataframe)\n",
    "    f_df = filter_dataframe_by_engine_hour(df, hour_meter)\n",
    "\n",
    "    if index == 0:\n",
    "        print(f_df.info())\n",
    "\n",
    "    f_df_name = dataframe.split(\".\")[0]  # removendo o .csv do final\n",
    "    f_df.to_csv(f\"../data/processed/filtered/{f_df_name}_{hour_meter}.csv\", index=False)\n"
   ]
  }
 ],
 "metadata": {
  "kernelspec": {
   "display_name": "venv",
   "language": "python",
   "name": "python3"
  },
  "language_info": {
   "codemirror_mode": {
    "name": "ipython",
    "version": 3
   },
   "file_extension": ".py",
   "mimetype": "text/x-python",
   "name": "python",
   "nbconvert_exporter": "python",
   "pygments_lexer": "ipython3",
   "version": "3.11.4"
  }
 },
 "nbformat": 4,
 "nbformat_minor": 5
}
