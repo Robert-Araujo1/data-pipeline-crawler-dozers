{
 "cells": [
  {
   "cell_type": "code",
   "execution_count": 1,
   "id": "7196c0a7",
   "metadata": {},
   "outputs": [],
   "source": [
    "import os\n",
    "try:\n",
    "    from utils.miniowrapper import MinIOWrapper\n",
    "except ModuleNotFoundError:\n",
    "    from notebooks.utils.miniowrapper import MinIOWrapper"
   ]
  },
  {
   "cell_type": "markdown",
   "id": "0dffc92e",
   "metadata": {},
   "source": [
    "# MinIO"
   ]
  },
  {
   "cell_type": "code",
   "execution_count": 7,
   "id": "9c8e0cf2",
   "metadata": {},
   "outputs": [],
   "source": [
    "# Minio Client\n",
    "client = MinIOWrapper()\n",
    "bucket = \"data-pipeline-crawler-dozers\""
   ]
  },
  {
   "cell_type": "markdown",
   "id": "9388f0e9",
   "metadata": {},
   "source": [
    "## Verificando bucket"
   ]
  },
  {
   "cell_type": "code",
   "execution_count": null,
   "id": "e0340bb5",
   "metadata": {},
   "outputs": [
    {
     "name": "stdout",
     "output_type": "stream",
     "text": [
      "✅Bucket data-pipeline-crawler-dozers encontrado.\n"
     ]
    }
   ],
   "source": [
    "exists = client.bucket_exists(bucket)"
   ]
  },
  {
   "cell_type": "markdown",
   "id": "b18121ba",
   "metadata": {},
   "source": [
    "## Carregando arquivos no bucket"
   ]
  },
  {
   "cell_type": "code",
   "execution_count": 9,
   "id": "6634d178",
   "metadata": {},
   "outputs": [
    {
     "name": "stdout",
     "output_type": "stream",
     "text": [
      "✅Objeto filtered/df_1160h_1100.csv inserido no bucket data-pipeline-crawler-dozers.\n",
      "✅Objeto filtered/df_1582h_1100.csv inserido no bucket data-pipeline-crawler-dozers.\n",
      "✅Objeto filtered/df_1604h_1100.csv inserido no bucket data-pipeline-crawler-dozers.\n",
      "✅Objeto filtered/df_1993h_1100.csv inserido no bucket data-pipeline-crawler-dozers.\n",
      "✅Objeto filtered/df_2026h_1100.csv inserido no bucket data-pipeline-crawler-dozers.\n",
      "✅Objeto filtered/df_2089h_1100.csv inserido no bucket data-pipeline-crawler-dozers.\n",
      "✅Objeto filtered/df_2281h_1100.csv inserido no bucket data-pipeline-crawler-dozers.\n",
      "✅Objeto filtered/df_2490h_1100.csv inserido no bucket data-pipeline-crawler-dozers.\n",
      "✅Objeto filtered/df_2784h_1100.csv inserido no bucket data-pipeline-crawler-dozers.\n",
      "✅Objeto filtered/df_3208h_1100.csv inserido no bucket data-pipeline-crawler-dozers.\n",
      "✅Objeto full/df_1160h.csv inserido no bucket data-pipeline-crawler-dozers.\n",
      "✅Objeto full/df_1582h.csv inserido no bucket data-pipeline-crawler-dozers.\n",
      "✅Objeto full/df_1604h.csv inserido no bucket data-pipeline-crawler-dozers.\n",
      "✅Objeto full/df_1993h.csv inserido no bucket data-pipeline-crawler-dozers.\n",
      "✅Objeto full/df_2026h.csv inserido no bucket data-pipeline-crawler-dozers.\n",
      "✅Objeto full/df_2089h.csv inserido no bucket data-pipeline-crawler-dozers.\n",
      "✅Objeto full/df_2281h.csv inserido no bucket data-pipeline-crawler-dozers.\n",
      "✅Objeto full/df_2490h.csv inserido no bucket data-pipeline-crawler-dozers.\n",
      "✅Objeto full/df_2784h.csv inserido no bucket data-pipeline-crawler-dozers.\n",
      "✅Objeto full/df_3208h.csv inserido no bucket data-pipeline-crawler-dozers.\n",
      "✅Arquivos carregados com sucesso.\n"
     ]
    }
   ],
   "source": [
    "filtered = os.listdir(\"../data/processed/filtered/\")\n",
    "full = os.listdir(\"../data/processed/full/\")\n",
    "\n",
    "for file in filtered:\n",
    "    client.fput_object(\n",
    "        bucket=bucket,\n",
    "        obj_name=f\"filtered/{file}\",\n",
    "        file_path=f\"../data/processed/filtered/{file}\",\n",
    "        content_type=\"text/csv\"\n",
    "    )\n",
    "\n",
    "for file in full:\n",
    "    client.fput_object(\n",
    "        bucket=bucket,\n",
    "        obj_name=f\"full/{file}\",\n",
    "        file_path=f\"../data/processed/full/{file}\",\n",
    "        content_type=\"text/csv\"\n",
    "    )\n",
    "\n",
    "print(\"✅Arquivos carregados com sucesso.\")"
   ]
  }
 ],
 "metadata": {
  "kernelspec": {
   "display_name": "venv",
   "language": "python",
   "name": "python3"
  },
  "language_info": {
   "codemirror_mode": {
    "name": "ipython",
    "version": 3
   },
   "file_extension": ".py",
   "mimetype": "text/x-python",
   "name": "python",
   "nbconvert_exporter": "python",
   "pygments_lexer": "ipython3",
   "version": "3.11.4"
  }
 },
 "nbformat": 4,
 "nbformat_minor": 5
}
